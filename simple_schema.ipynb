{
 "cells": [
  {
   "cell_type": "code",
   "execution_count": 5,
   "metadata": {},
   "outputs": [],
   "source": [
    "from pydantic import BaseModel, Field\n",
    "import json\n",
    "from simpleaichat import AIChat\n",
    "from simpleaichat.utils import fd, remove_a_key"
   ]
  },
  {
   "cell_type": "code",
   "execution_count": 6,
   "metadata": {},
   "outputs": [],
   "source": [
    "class answer_question(BaseModel):\n",
    "    \"\"\"Returns an answer to a question the user asked.\"\"\"\n",
    "\n",
    "    answer: int = Field(description=\"Answer to the user's question.\")\n",
    "    ones_name: str = Field(description=\"Name of the ones digit of the answer.\")"
   ]
  },
  {
   "cell_type": "code",
   "execution_count": 7,
   "metadata": {},
   "outputs": [
    {
     "name": "stdout",
     "output_type": "stream",
     "text": [
      "{\n",
      "  \"description\": \"Returns an answer to a question the user asked.\",\n",
      "  \"properties\": {\n",
      "    \"answer\": {\n",
      "      \"description\": \"Answer to the user's question.\",\n",
      "      \"title\": \"Answer\",\n",
      "      \"type\": \"integer\"\n",
      "    },\n",
      "    \"ones_name\": {\n",
      "      \"description\": \"Name of the ones digit of the answer.\",\n",
      "      \"title\": \"Ones Name\",\n",
      "      \"type\": \"string\"\n",
      "    }\n",
      "  },\n",
      "  \"required\": [\n",
      "    \"answer\",\n",
      "    \"ones_name\"\n",
      "  ],\n",
      "  \"title\": \"answer_question\",\n",
      "  \"type\": \"object\"\n",
      "}\n"
     ]
    }
   ],
   "source": [
    "print(json.dumps(answer_question.model_json_schema(), indent=2))"
   ]
  },
  {
   "cell_type": "markdown",
   "metadata": {},
   "source": [
    "Demo output for what gets sent to the model:\n"
   ]
  },
  {
   "cell_type": "code",
   "execution_count": 14,
   "metadata": {},
   "outputs": [
    {
     "name": "stdout",
     "output_type": "stream",
     "text": [
      "{\n",
      "  \"tools\": [\n",
      "    {\n",
      "      \"name\": \"answer_question\",\n",
      "      \"description\": \"Returns an answer to a question the user asked.\",\n",
      "      \"parameters\": {\n",
      "        \"description\": \"Returns an answer to a question the user asked.\",\n",
      "        \"properties\": {\n",
      "          \"answer\": {\n",
      "            \"description\": \"Answer to the user's question.\",\n",
      "            \"type\": \"integer\"\n",
      "          },\n",
      "          \"ones_name\": {\n",
      "            \"description\": \"Name of the ones digit of the answer.\",\n",
      "            \"type\": \"string\"\n",
      "          }\n",
      "        },\n",
      "        \"required\": [\n",
      "          \"answer\",\n",
      "          \"ones_name\"\n",
      "        ],\n",
      "        \"type\": \"object\"\n",
      "      }\n",
      "    }\n",
      "  ],\n",
      "  \"tool_choice\": {\n",
      "    \"type\": \"function\",\n",
      "    \"function\": {\n",
      "      \"name\": \"answer_question\"\n",
      "    }\n",
      "  }\n",
      "}\n"
     ]
    }
   ],
   "source": [
    "schema_dict = answer_question.model_json_schema()\n",
    "remove_a_key(schema_dict, \"title\")\n",
    "\n",
    "data = {\n",
    "    \"tools\": [\n",
    "        {\n",
    "            \"name\": answer_question.__name__,\n",
    "            \"description\": answer_question.__doc__,\n",
    "            \"parameters\": schema_dict,\n",
    "        }\n",
    "    ],\n",
    "    \"tool_choice\": {\"type\": \"function\", \"function\": {\"name\": answer_question.__name__}},\n",
    "}\n",
    "\n",
    "print(json.dumps(data, indent=2))"
   ]
  },
  {
   "cell_type": "code",
   "execution_count": null,
   "metadata": {},
   "outputs": [],
   "source": [
    "data"
   ]
  },
  {
   "cell_type": "code",
   "execution_count": 4,
   "metadata": {},
   "outputs": [],
   "source": [
    "ai = AIChat(\n",
    "    console=False,\n",
    "    save_messages=False,\n",
    "    model=\"gpt-3.5-turbo\",\n",
    "    params={\"temperature\": 0.0},\n",
    ")"
   ]
  },
  {
   "cell_type": "code",
   "execution_count": 5,
   "metadata": {},
   "outputs": [
    {
     "name": "stdout",
     "output_type": "stream",
     "text": [
      "{\n",
      "  \"answer\": 382,\n",
      "  \"ones_name\": \"two\"\n",
      "}\n"
     ]
    }
   ],
   "source": [
    "response_structured = ai(\n",
    "    \"How many miles is it from San Francisco to Los Angeles?\",\n",
    "    output_schema=answer_question,\n",
    ")\n",
    "\n",
    "print(json.dumps(response_structured, indent=2))"
   ]
  },
  {
   "cell_type": "markdown",
   "metadata": {},
   "source": [
    "Swapping the fields to show that order matters.\n"
   ]
  },
  {
   "cell_type": "code",
   "execution_count": 6,
   "metadata": {},
   "outputs": [
    {
     "name": "stdout",
     "output_type": "stream",
     "text": [
      "{\n",
      "  \"ones_name\": \"miles\",\n",
      "  \"answer\": 382\n",
      "}\n"
     ]
    }
   ],
   "source": [
    "class answer_question_r(BaseModel):\n",
    "    \"\"\"Returns an answer to a question the user asked.\"\"\"\n",
    "\n",
    "    ones_name: str = Field(description=\"Name of the ones digit of the answer.\")\n",
    "    answer: int = Field(description=\"Answer to the user's question.\")\n",
    "\n",
    "\n",
    "response_structured = ai(\n",
    "    \"How many miles is it from San Francisco to Los Angeles?\",\n",
    "    output_schema=answer_question_r,\n",
    ")\n",
    "\n",
    "print(json.dumps(response_structured, indent=2))"
   ]
  },
  {
   "cell_type": "markdown",
   "metadata": {},
   "source": [
    "Code question\n"
   ]
  },
  {
   "cell_type": "code",
   "execution_count": 7,
   "metadata": {},
   "outputs": [
    {
     "name": "stdout",
     "output_type": "stream",
     "text": [
      "{\n",
      "  \"code\": \"def is_palindrome(s):\\n    return s == s[::-1]\"\n",
      "}\n"
     ]
    }
   ],
   "source": [
    "class answer_code_question(BaseModel):\n",
    "    \"\"\"Returns an answer to a coding question the user asked.\"\"\"\n",
    "\n",
    "    code: str = Field(description=\"Code the user requested, without code comments.\")\n",
    "\n",
    "\n",
    "response_structured = ai(\n",
    "    \"Write a Python function to detect whether a string is a palindrome, as efficiently as possible.\",\n",
    "    output_schema=answer_code_question,\n",
    ")\n",
    "\n",
    "print(json.dumps(response_structured, indent=2))"
   ]
  },
  {
   "cell_type": "code",
   "execution_count": 8,
   "metadata": {},
   "outputs": [
    {
     "name": "stdout",
     "output_type": "stream",
     "text": [
      "{\n",
      "  \"code\": \"def is_palindrome(s):\\n    return s == s[::-1]\",\n",
      "  \"optimized_code\": \"def is_palindrome(s):\\n    left = 0\\n    right = len(s) - 1\\n    while left < right:\\n        if s[left] != s[right]:\\n            return False\\n        left += 1\\n        right -= 1\\n    return True\"\n",
      "}\n"
     ]
    }
   ],
   "source": [
    "class answer_code_question(BaseModel):\n",
    "    \"\"\"Returns an answer to a coding question the user asked.\"\"\"\n",
    "\n",
    "    code: str = fd(\"Code the user requested, without code comments.\")\n",
    "    optimized_code: str = fd(\n",
    "        \"Algorithmically optimized code from the previous response.\"\n",
    "    )\n",
    "\n",
    "\n",
    "response_structured = ai(\n",
    "    \"Write a Python function to detect whether a string is a palindrome, as efficiently as possible.\",\n",
    "    output_schema=answer_code_question,\n",
    ")\n",
    "\n",
    "print(json.dumps(response_structured, indent=2))"
   ]
  },
  {
   "cell_type": "code",
   "execution_count": null,
   "metadata": {},
   "outputs": [],
   "source": []
  }
 ],
 "metadata": {
  "kernelspec": {
   "display_name": "Python 3",
   "language": "python",
   "name": "python3"
  },
  "language_info": {
   "codemirror_mode": {
    "name": "ipython",
    "version": 3
   },
   "file_extension": ".py",
   "mimetype": "text/x-python",
   "name": "python",
   "nbconvert_exporter": "python",
   "pygments_lexer": "ipython3",
   "version": "3.11.6"
  }
 },
 "nbformat": 4,
 "nbformat_minor": 2
}
