{
 "cells": [
  {
   "cell_type": "code",
   "execution_count": 2,
   "metadata": {},
   "outputs": [],
   "source": [
    "from pydantic import BaseModel, Field\n",
    "import json\n",
    "from simpleaichat import AIChat\n",
    "from simpleaichat.utils import fd\n",
    "from typing import Literal"
   ]
  },
  {
   "cell_type": "code",
   "execution_count": 3,
   "metadata": {},
   "outputs": [],
   "source": [
    "ai = AIChat(\n",
    "    console=False,\n",
    "    save_messages=False,\n",
    "    model=\"gpt-3.5-turbo\",\n",
    "    params={\"temperature\": 0.0},\n",
    ")"
   ]
  },
  {
   "cell_type": "code",
   "execution_count": 4,
   "metadata": {},
   "outputs": [
    {
     "data": {
      "text/plain": [
       "'The result of multiplying 223 and -323 is -72029.'"
      ]
     },
     "execution_count": 4,
     "metadata": {},
     "output_type": "execute_result"
    }
   ],
   "source": [
    "class calculate_equation(BaseModel):\n",
    "    \"\"\"Returns an answer to a math equation the user asked.\"\"\"\n",
    "\n",
    "    value_a: int\n",
    "    value_b: int\n",
    "    op: Literal[\"+\", \"-\", \"*\", \"/\"] = fd(\n",
    "        \"The operator to perform between value_a and value_b.\"\n",
    "    )\n",
    "\n",
    "\n",
    "equation = calculate_equation(value_a=223, value_b=-323, op=\"*\")\n",
    "\n",
    "response = ai(\n",
    "    equation,\n",
    "    input_schema=calculate_equation,\n",
    ")\n",
    "\n",
    "response"
   ]
  },
  {
   "cell_type": "code",
   "execution_count": 5,
   "metadata": {},
   "outputs": [],
   "source": [
    "class answer_question(BaseModel):\n",
    "    \"\"\"Returns an answer to a question the user asked.\"\"\"\n",
    "\n",
    "    answer: int = Field(description=\"Answer to the user's question.\")\n",
    "    ones_name: str = Field(description=\"Name of the ones digit of the answer.\")"
   ]
  },
  {
   "cell_type": "code",
   "execution_count": 8,
   "metadata": {},
   "outputs": [
    {
     "name": "stdout",
     "output_type": "stream",
     "text": [
      "{\n",
      "  \"answer\": -71929,\n",
      "  \"ones_name\": \"nine\"\n",
      "}\n"
     ]
    }
   ],
   "source": [
    "response_structured = ai(\n",
    "    equation, input_schema=calculate_equation, output_schema=answer_question\n",
    ")\n",
    "\n",
    "print(json.dumps(response_structured, indent=2))"
   ]
  },
  {
   "cell_type": "code",
   "execution_count": null,
   "metadata": {},
   "outputs": [],
   "source": []
  }
 ],
 "metadata": {
  "kernelspec": {
   "display_name": "Python 3",
   "language": "python",
   "name": "python3"
  },
  "language_info": {
   "codemirror_mode": {
    "name": "ipython",
    "version": 3
   },
   "file_extension": ".py",
   "mimetype": "text/x-python",
   "name": "python",
   "nbconvert_exporter": "python",
   "pygments_lexer": "ipython3",
   "version": "3.11.6"
  }
 },
 "nbformat": 4,
 "nbformat_minor": 2
}
