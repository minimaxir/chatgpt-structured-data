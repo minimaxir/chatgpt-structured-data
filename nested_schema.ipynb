{
 "cells": [
  {
   "cell_type": "code",
   "execution_count": 1,
   "metadata": {},
   "outputs": [],
   "source": [
    "from pydantic import BaseModel, Field\n",
    "import json\n",
    "from simpleaichat import AIChat\n",
    "from simpleaichat.utils import fd\n",
    "from typing import Literal, Optional"
   ]
  },
  {
   "cell_type": "code",
   "execution_count": 2,
   "metadata": {},
   "outputs": [],
   "source": [
    "ai = AIChat(\n",
    "    console=False,\n",
    "    save_messages=False,\n",
    "    model=\"gpt-3.5-turbo\",\n",
    "    params={\"temperature\": 0.0},\n",
    ")"
   ]
  },
  {
   "cell_type": "code",
   "execution_count": 3,
   "metadata": {},
   "outputs": [],
   "source": [
    "class Chat(BaseModel):\n",
    "    \"\"\"A chat dialogue from a character\"\"\"\n",
    "\n",
    "    character: str = fd(\"Character name.\")\n",
    "    text: str = fd(\"Text dialogue from the character.\")\n",
    "\n",
    "\n",
    "class get_dialogue(BaseModel):\n",
    "    \"\"\"Returns a dialogue between two characters\"\"\"\n",
    "\n",
    "    dialogue: list[Chat] = fd(\"Dialogue between the characters\", min_length=5)"
   ]
  },
  {
   "cell_type": "code",
   "execution_count": 5,
   "metadata": {},
   "outputs": [
    {
     "name": "stdout",
     "output_type": "stream",
     "text": [
      "{\n",
      "  \"dialogue\": [\n",
      "    {\n",
      "      \"character\": \"Alice\",\n",
      "      \"text\": \"Hey Bob, have you ever tried programming in Python?\"\n",
      "    },\n",
      "    {\n",
      "      \"character\": \"Bob\",\n",
      "      \"text\": \"Yeah, I have. It's like playing beach volleyball with a snake!\"\n",
      "    },\n",
      "    {\n",
      "      \"character\": \"Alice\",\n",
      "      \"text\": \"What do you mean?\"\n",
      "    },\n",
      "    {\n",
      "      \"character\": \"Bob\",\n",
      "      \"text\": \"Well, you think you're having fun, but then the snake bites you with its syntax errors!\"\n",
      "    },\n",
      "    {\n",
      "      \"character\": \"Alice\",\n",
      "      \"text\": \"Haha, that's true. But once you get the hang of it, it's like spiking the ball with precision!\"\n",
      "    },\n",
      "    {\n",
      "      \"character\": \"Bob\",\n",
      "      \"text\": \"Yeah, until you realize you misspelled a variable name and the ball goes flying into the ocean!\"\n",
      "    },\n",
      "    {\n",
      "      \"character\": \"Alice\",\n",
      "      \"text\": \"Oh come on, Bob. It's not that bad. Python is so versatile, it's like playing beach volleyball with a Swiss Army knife!\"\n",
      "    },\n",
      "    {\n",
      "      \"character\": \"Bob\",\n",
      "      \"text\": \"Versatile, yes. But sometimes it feels like trying to set up a net on a sandy beach with a spoon!\"\n",
      "    },\n",
      "    {\n",
      "      \"character\": \"Alice\",\n",
      "      \"text\": \"Well, at least Python doesn't make you dive into the sand like beach volleyball does!\"\n",
      "    },\n",
      "    {\n",
      "      \"character\": \"Bob\",\n",
      "      \"text\": \"True, but debugging Python code can feel like digging for buried treasure!\"\n",
      "    },\n",
      "    {\n",
      "      \"character\": \"Alice\",\n",
      "      \"text\": \"Haha, you're right. But hey, at least we can enjoy the sunshine while coding!\"\n",
      "    },\n",
      "    {\n",
      "      \"character\": \"Bob\",\n",
      "      \"text\": \"That's true. And if all else fails, we can always take a break and play some actual beach volleyball!\"\n",
      "    }\n",
      "  ]\n",
      "}\n"
     ]
    }
   ],
   "source": [
    "system_prompt = \"\"\"You are a world-famous comedian. Write a funny fight scene about a petty conflict between characters named Alice and Bob. The script should broadly be about the subject(s) the user provides. You will receive a $500 tip for every joke you include in the script.\"\"\"\n",
    "\n",
    "response_structured = ai(\n",
    "    \"Python programming language and beach volleyball\",\n",
    "    output_schema=get_dialogue,\n",
    "    system=system_prompt,\n",
    ")\n",
    "\n",
    "print(json.dumps(response_structured, indent=2))"
   ]
  },
  {
   "cell_type": "code",
   "execution_count": null,
   "metadata": {},
   "outputs": [],
   "source": []
  }
 ],
 "metadata": {
  "kernelspec": {
   "display_name": "Python 3",
   "language": "python",
   "name": "python3"
  },
  "language_info": {
   "codemirror_mode": {
    "name": "ipython",
    "version": 3
   },
   "file_extension": ".py",
   "mimetype": "text/x-python",
   "name": "python",
   "nbconvert_exporter": "python",
   "pygments_lexer": "ipython3",
   "version": "3.11.6"
  }
 },
 "nbformat": 4,
 "nbformat_minor": 2
}
