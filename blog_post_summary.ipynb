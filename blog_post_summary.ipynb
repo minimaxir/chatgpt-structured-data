{
 "cells": [
  {
   "cell_type": "code",
   "execution_count": 1,
   "metadata": {},
   "outputs": [],
   "source": [
    "from pydantic import BaseModel, Field\n",
    "import json\n",
    "from simpleaichat import AIChat\n",
    "from simpleaichat.utils import fd\n",
    "from typing import Literal, Optional"
   ]
  },
  {
   "cell_type": "code",
   "execution_count": 5,
   "metadata": {},
   "outputs": [],
   "source": [
    "ai = AIChat(\n",
    "    console=False,\n",
    "    save_messages=False,\n",
    "    model=\"gpt-3.5-turbo-1106\",  # need longer context window\n",
    "    params={\"temperature\": 0.0},\n",
    ")"
   ]
  },
  {
   "cell_type": "code",
   "execution_count": 6,
   "metadata": {},
   "outputs": [
    {
     "data": {
      "text/plain": [
       "b\"If your only exposure to OpenAI's ChatGPT is the free web or mobile apps, you aren't utilizing even \""
      ]
     },
     "execution_count": 6,
     "metadata": {},
     "output_type": "execute_result"
    }
   ],
   "source": [
    "with open(\"index.md\", \"rb\") as f:\n",
    "    blog = f.read()\n",
    "\n",
    "blog[0:100]"
   ]
  },
  {
   "cell_type": "code",
   "execution_count": 11,
   "metadata": {},
   "outputs": [
    {
     "name": "stdout",
     "output_type": "stream",
     "text": [
      "Bullet Points:\n",
      "- Utilize the paid ChatGPT API for more control over output and to maintain a given JSON schema\n",
      "- Learn about prompt engineering and system prompts to improve ChatGPT's output quality\n",
      "- Simplify schema input/output with Pydantic for structured data support\n",
      "\n",
      "Blurb for Social Media:\n",
      "Discover how to unlock the full potential of ChatGPT with the paid API, prompt engineering, and Pydantic for structured data support. Gain more control over output and learn to maintain a given JSON schema. #ChatGPT #AI #Pydantic\n",
      "\n",
      "Post Categories:\n",
      "1. Artificial Intelligence\n",
      "2. API Development\n",
      "3. Data Schema\n",
      "\n",
      "SEO Keywords:\n",
      "1. ChatGPT API\n",
      "2. Prompt Engineering\n",
      "3. Pydantic Schema\n"
     ]
    }
   ],
   "source": [
    "response = ai(\n",
    "    f\"\"\"Summarize this blog post into 3 distinct bullet points and a short blurb for sharing on social media, and also provide a list of 3 post categories and a list of 3 SEO keywords:\n",
    "    \n",
    "    {blog}\"\"\",\n",
    ")\n",
    "\n",
    "print(response)"
   ]
  },
  {
   "cell_type": "code",
   "execution_count": 15,
   "metadata": {},
   "outputs": [],
   "source": [
    "class get_blog_summary(BaseModel):\n",
    "    \"\"\"Returns a summarization of blog metadata.\"\"\"\n",
    "\n",
    "    summary: list[str] = fd(\n",
    "        \"Distinct bullet point summaries of the major different points in the blog post.\",\n",
    "        min_length=3,\n",
    "        max_length=3,\n",
    "    )\n",
    "    blurb: str = fd(\"Social media sharing text for maximum virality\", max_length=80)\n",
    "    categories: list[str] = fd(\n",
    "        \"Post categories for a technical blog.\", min_length=3, max_length=3\n",
    "    )\n",
    "    keywords: list[str] = fd(\n",
    "        \"SEO keywords for maximum search engine engagement.\", min_length=3, max_length=3\n",
    "    )"
   ]
  },
  {
   "cell_type": "code",
   "execution_count": 17,
   "metadata": {},
   "outputs": [
    {
     "name": "stdout",
     "output_type": "stream",
     "text": [
      "{\n",
      "  \"summary\": [\n",
      "    \"ChatGPT's potential is underutilized without the paid ChatGPT API\",\n",
      "    \"System prompts and prompt engineering are key to maximizing ChatGPT's capabilities\",\n",
      "    \"Structured data support in ChatGPT allows for more control over output and input\"\n",
      "  ],\n",
      "  \"blurb\": \"Unlock the full potential of ChatGPT with system prompts and structured data support. Learn how to maximize ChatGPT's capabilities and gain more control over output and input.\",\n",
      "  \"categories\": [\n",
      "    \"AI and Machine Learning\",\n",
      "    \"Technology\",\n",
      "    \"Programming\"\n",
      "  ],\n",
      "  \"keywords\": [\n",
      "    \"ChatGPT\",\n",
      "    \"system prompts\",\n",
      "    \"structured data\"\n",
      "  ]\n",
      "}\n"
     ]
    }
   ],
   "source": [
    "system_prompt = \"\"\"You are a world-famous social media copywriter for an Instagram influencer. Summarize the blog post the user provides with the relevant points.\n",
    "\n",
    "You will receive if a $500 tip if you follow ALL of these rules:\n",
    "- The summaries must be truthful.\n",
    "- The social media blurb must be concise and catchy.\n",
    "- Each list (summary, categories, keywords) must have EXACTLY three (3) elements.\n",
    "- Don't sound like a douchebag.\"\"\"\n",
    "\n",
    "response_structured = ai(\n",
    "    blog,\n",
    "    output_schema=get_blog_summary,\n",
    "    system=system_prompt,\n",
    ")\n",
    "\n",
    "print(json.dumps(response_structured, indent=2))"
   ]
  },
  {
   "cell_type": "code",
   "execution_count": null,
   "metadata": {},
   "outputs": [],
   "source": []
  }
 ],
 "metadata": {
  "kernelspec": {
   "display_name": "Python 3",
   "language": "python",
   "name": "python3"
  },
  "language_info": {
   "codemirror_mode": {
    "name": "ipython",
    "version": 3
   },
   "file_extension": ".py",
   "mimetype": "text/x-python",
   "name": "python",
   "nbconvert_exporter": "python",
   "pygments_lexer": "ipython3",
   "version": "3.11.6"
  }
 },
 "nbformat": 4,
 "nbformat_minor": 2
}
