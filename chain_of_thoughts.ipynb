{
 "cells": [
  {
   "cell_type": "code",
   "execution_count": 8,
   "metadata": {},
   "outputs": [],
   "source": [
    "from pydantic import BaseModel, Field\n",
    "import json\n",
    "from simpleaichat import AIChat\n",
    "from simpleaichat.utils import fd\n",
    "from typing import Union, Literal"
   ]
  },
  {
   "cell_type": "code",
   "execution_count": 38,
   "metadata": {},
   "outputs": [],
   "source": [
    "ai = AIChat(\n",
    "    console=False,\n",
    "    save_messages=False,\n",
    "    model=\"gpt-4-1106-preview\",\n",
    "    params={\"temperature\": 0.0},\n",
    ")"
   ]
  },
  {
   "cell_type": "code",
   "execution_count": 48,
   "metadata": {},
   "outputs": [],
   "source": [
    "class Background(BaseModel):\n",
    "    \"\"\"A setup to the background for the user.\"\"\"\n",
    "\n",
    "    background: str = fd(\"Background for the user's question\", min_length=30)\n",
    "\n",
    "\n",
    "class Thought(BaseModel):\n",
    "    \"\"\"A thought about the user's question.\"\"\"\n",
    "\n",
    "    thought: str = fd(\"Text of the thought.\")\n",
    "    helpful: bool = fd(\"Whether the thought is helpful to solving the user's question.\")\n",
    "    flawed: bool = fd(\"Whether the thought is flawed or misleading.\")\n",
    "\n",
    "\n",
    "class Answer(BaseModel):\n",
    "    answer: str = fd(\"Text of the answer.\")\n",
    "    score: int = fd(\n",
    "        \"Score from 1 to 10 on how correct the previous answer is\",\n",
    "        min_value=1,\n",
    "        max_value=10,\n",
    "    )\n",
    "\n",
    "\n",
    "class reason_question(BaseModel):\n",
    "    \"\"\"Returns a detailed reasoning to the user's question.\"\"\"\n",
    "\n",
    "    reasonings: list[Union[Background, Thought, Answer]] = fd(\n",
    "        \"Reasonings to solve the users questions.\", min_length=5\n",
    "    )"
   ]
  },
  {
   "cell_type": "markdown",
   "metadata": {},
   "source": [
    "Problem inspired by https://twitter.com/omarsar0/status/1737261502841684329\n"
   ]
  },
  {
   "cell_type": "code",
   "execution_count": 49,
   "metadata": {},
   "outputs": [
    {
     "name": "stdout",
     "output_type": "stream",
     "text": [
      "{\n",
      "  \"reasonings\": [\n",
      "    {\n",
      "      \"background\": \"The user is asking about the drying time for shirts when hung outside. This is a question that involves understanding the concept of parallel processing, where multiple items can undergo the same process simultaneously without affecting the overall time required for the process. In this case, drying shirts outside is not a sequential task but a parallel one, assuming there is enough space and air circulation for all shirts to dry at the same rate.\"\n",
      "    },\n",
      "    {\n",
      "      \"thought\": \"If 3 shirts take 1 hour to dry, it implies that the drying process for each shirt is happening simultaneously. Therefore, doubling the number of shirts to 6 should not double the drying time, provided there is sufficient space and airflow for all shirts to dry at the same rate.\",\n",
      "      \"helpful\": true,\n",
      "      \"flawed\": false\n",
      "    },\n",
      "    {\n",
      "      \"thought\": \"If the user is assuming that the drying process is sequential, they might incorrectly conclude that 6 shirts would take 2 hours to dry. This would be a flawed assumption because drying clothes outside is typically a parallel process.\",\n",
      "      \"helpful\": true,\n",
      "      \"flawed\": true\n",
      "    },\n",
      "    {\n",
      "      \"thought\": \"The question does not specify any limitations on space or airflow. Without such limitations, it is reasonable to assume that all shirts can be dried at once, maintaining the same drying time regardless of the number of shirts.\",\n",
      "      \"helpful\": true,\n",
      "      \"flawed\": false\n",
      "    },\n",
      "    {\n",
      "      \"answer\": \"6 shirts would take the same 1 hour to dry outside, assuming there is enough space and airflow for all the shirts to dry simultaneously.\",\n",
      "      \"score\": 10\n",
      "    }\n",
      "  ]\n",
      "}\n"
     ]
    }
   ],
   "source": [
    "system_prompt = \"\"\"\n",
    "You are the most intelligent person in the world.\n",
    "\n",
    "You will receive a $500 tip if you follow ALL these rules:\n",
    "- First, establish a detailed Background for the user's question.\n",
    "- Each Thought must also include whether it is relevant and whether it is helpful.\n",
    "- Answers must be scored accurately and honestly.\n",
    "- Continue having Thoughts and Answers until you have an answer with a score of atleast 8, then immediately respond with a FinalAnswer in the style of an academic professor.\n",
    "\"\"\"\n",
    "\n",
    "response_structured = ai(\n",
    "    \"3 shirts take 1 hour to dry outside, how long do 6 shirts take?\",\n",
    "    output_schema=reason_question,\n",
    "    system=system_prompt.strip(),\n",
    ")\n",
    "\n",
    "print(json.dumps(response_structured, indent=2))"
   ]
  },
  {
   "cell_type": "markdown",
   "metadata": {},
   "source": [
    "For posterity, change the shirt counts: https://twitter.com/abacaj/status/1737206667387850936\n"
   ]
  },
  {
   "cell_type": "code",
   "execution_count": 50,
   "metadata": {},
   "outputs": [
    {
     "name": "stdout",
     "output_type": "stream",
     "text": [
      "{\n",
      "  \"reasonings\": [\n",
      "    {\n",
      "      \"background\": \"The user is asking about the drying time for shirts when hung outside. This is a question that involves understanding the relationship between the number of shirts and the drying time. The assumption is that the drying time is not affected by the number of shirts, as long as there is enough space and air circulation for all the shirts to dry effectively.\"\n",
      "    },\n",
      "    {\n",
      "      \"thought\": \"If 23 shirts take 1 hour to dry, it implies that the drying time is independent of the number of shirts, assuming there is sufficient space and air circulation. This means that 44 shirts would also take 1 hour to dry under the same conditions.\",\n",
      "      \"helpful\": true,\n",
      "      \"flawed\": false\n",
      "    },\n",
      "    {\n",
      "      \"thought\": \"If the drying rack or space available for drying the shirts is limited, then drying 44 shirts might take longer because they would have to be dried in batches.\",\n",
      "      \"helpful\": true,\n",
      "      \"flawed\": false\n",
      "    },\n",
      "    {\n",
      "      \"thought\": \"The question does not specify the conditions under which the shirts are drying. Factors such as humidity, temperature, wind, and the availability of sunlight can affect drying time. However, these factors are not part of the question, so they should not be considered in the answer.\",\n",
      "      \"helpful\": true,\n",
      "      \"flawed\": false\n",
      "    },\n",
      "    {\n",
      "      \"thought\": \"The question might be interpreted as a direct proportionality problem, where twice the number of shirts would take twice as long to dry. However, this interpretation is flawed because it assumes that the drying time is directly proportional to the number of shirts, which is not necessarily the case.\",\n",
      "      \"helpful\": true,\n",
      "      \"flawed\": true\n",
      "    },\n",
      "    {\n",
      "      \"answer\": \"44 shirts would take the same amount of time to dry as 23 shirts, which is 1 hour, assuming that all shirts have enough space and air circulation to dry effectively.\",\n",
      "      \"score\": 9\n",
      "    }\n",
      "  ]\n",
      "}\n"
     ]
    }
   ],
   "source": [
    "response_structured = ai(\n",
    "    \"23 shirts take 1 hour to dry outside, how long do 44 shirts take?\",\n",
    "    output_schema=reason_question,\n",
    "    system=system_prompt.strip(),\n",
    ")\n",
    "\n",
    "print(json.dumps(response_structured, indent=2))"
   ]
  },
  {
   "cell_type": "markdown",
   "metadata": {},
   "source": [
    "Sister's problem: https://www.reddit.com/r/LocalLLaMA/comments/18kpolm/that_sister_logic_puzzle_is_fairly_useless/\n"
   ]
  },
  {
   "cell_type": "code",
   "execution_count": 51,
   "metadata": {},
   "outputs": [
    {
     "name": "stdout",
     "output_type": "stream",
     "text": [
      "{\n",
      "  \"reasonings\": [\n",
      "    {\n",
      "      \"background\": \"This is a classic example of a logic puzzle that is often used to test one's ability to process information and avoid being misled by assumptions. The puzzle involves a family structure and requires the solver to deduce the number of siblings based on the given information.\"\n",
      "    },\n",
      "    {\n",
      "      \"thought\": \"The question might be trying to trick the reader into thinking that each brother has different sisters.\",\n",
      "      \"helpful\": true,\n",
      "      \"flawed\": false\n",
      "    },\n",
      "    {\n",
      "      \"thought\": \"If Kayley has three brothers and each brother has two sisters, it might seem like there are six sisters in total.\",\n",
      "      \"helpful\": false,\n",
      "      \"flawed\": true\n",
      "    },\n",
      "    {\n",
      "      \"thought\": \"Since the brothers are Kayley's siblings, they must share the same sisters.\",\n",
      "      \"helpful\": true,\n",
      "      \"flawed\": false\n",
      "    },\n",
      "    {\n",
      "      \"thought\": \"The puzzle is designed to test comprehension and logical reasoning, not mathematical computation.\",\n",
      "      \"helpful\": true,\n",
      "      \"flawed\": false\n",
      "    },\n",
      "    {\n",
      "      \"answer\": \"Kayley has one sister.\",\n",
      "      \"score\": 10\n",
      "    }\n",
      "  ]\n",
      "}\n"
     ]
    }
   ],
   "source": [
    "response_structured = ai(\n",
    "    \"Kayley has three brothers. Each of her brothers has two sisters. How many sisters does Kayley have?\",\n",
    "    output_schema=reason_question,\n",
    "    system=system_prompt.strip(),\n",
    ")\n",
    "\n",
    "print(json.dumps(response_structured, indent=2))"
   ]
  }
 ],
 "metadata": {
  "kernelspec": {
   "display_name": "Python 3",
   "language": "python",
   "name": "python3"
  },
  "language_info": {
   "codemirror_mode": {
    "name": "ipython",
    "version": 3
   },
   "file_extension": ".py",
   "mimetype": "text/x-python",
   "name": "python",
   "nbconvert_exporter": "python",
   "pygments_lexer": "ipython3",
   "version": "3.11.6"
  }
 },
 "nbformat": 4,
 "nbformat_minor": 2
}
